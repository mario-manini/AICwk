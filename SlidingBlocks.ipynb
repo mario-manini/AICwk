{
  "cells": [
    {
      "cell_type": "markdown",
      "metadata": {},
      "source": [
        "# **COMP2611**\n",
        "## *Artificial Intelligence*\n",
        "### *Assignment 1: Search Algorithms*\n",
        "### *Mario Manini - sc23mm2@leeds.ac.uk*\n",
        "### *Jonghyun Kim - sc23j3k@leeds.ac.uk*\n",
        "\n",
        "Declaration A.\n",
        "We confirm that we have worked as pair on this project and both of us have made significant\n",
        "contributions to both parts of the assignment.\n",
        "We are aware that both members of the pair will receive the same grade.\n",
        "We confirm that only one submission submission has been made via Gradescope.\n",
        "The submitter confirms that they have agreed the final submitted version of this report with the\n",
        "other member of the pair.\n",
        "The submitter confirms that, after submitting the report to Gradescope, they have\n",
        "added the other member of the pair to the group associated with the submission.\n",
        "\n",
        "#### *A. Sliding Blocks Puzzle Search Investigation*\n",
        "\n",
        "\n",
        "    \n",
        "\n",
        "\n"
      ]
    },
    {
      "cell_type": "code",
      "execution_count": 2,
      "metadata": {
        "tags": [
          "hide-input",
          "hide_code"
        ]
      },
      "outputs": [
        {
          "name": "stdout",
          "output_type": "stream",
          "text": [
            "  % Total    % Received % Xferd  Average Speed   Time    Time     Time  Current\n",
            "                                 Dload  Upload   Total   Spent    Left  Speed\n",
            "100 18767  100 18767    0     0   305k      0 --:--:-- --:--:-- --:--:--  305k\n"
          ]
        }
      ],
      "source": [
        "#!echo Installing bbSearch module from web ...\n",
        "#!echo creating bbmodcache subfolder\n",
        "!mkdir -p bbmodcache\n",
        "#!echo downloading bbSearch module\n",
        "!curl http://bb-ai.net.s3.amazonaws.com/bb-python-modules/bbSearch.py > bbmodcache/bbSearch.py\n",
        "\n",
        "from bbmodcache.bbSearch import SearchProblem, search\n",
        "\n",
        "import matplotlib.pyplot as plt\n",
        "import matplotlib.patches as patches\n",
        "from copy import deepcopy\n",
        "\n",
        "plt.ioff()  ## Turn off immediate display of plots\n",
        "\n",
        "COLORS = [\"lightgray\", \"red\", \"blue\", \"green\", \"yellow\",\n",
        "          \"orange\", \"purple\", \"pink\", \"brown\",\"black\",\"lime\"]\n",
        "\n",
        "class BlockState:\n",
        "\n",
        "      # Specify mapping from directions to grid coordinate offsets:\n",
        "      neighbour_offset = {\"left\": (0,-1), \"right\": (0,+1), \"down\":(+1,0), \"up\":(-1,0)}\n",
        "\n",
        "      def __init__( self, blockstate, colors=COLORS ):\n",
        "        self.blockstate = blockstate\n",
        "        self.nrows = len(blockstate)\n",
        "        self.ncols = len(blockstate[0])\n",
        "        self.blocknums = set().union(*[set(row) for row in blockstate])\n",
        "        self.blocknums = self.blocknums - {0}\n",
        "        self.blocknumlist = list(self.blocknums)\n",
        "        self.colors = colors\n",
        "\n",
        "      def __repr__(self):\n",
        "        return( str( self.blockstate ))\n",
        "\n",
        "      # Find the cells occupied by a given number\n",
        "      def blockcells( self, blocknum ):\n",
        "          blockcells = []\n",
        "          for row in range(self.nrows):\n",
        "            for col in range(self.ncols):\n",
        "              if self.blockstate[row][col] == blocknum:\n",
        "                blockcells.append((row,col))\n",
        "          return blockcells\n",
        "\n",
        "      # Test if a cell is free (unblocked) in a given direction\n",
        "      # Free if not blocked by edge of grid or by a cell of different colour\n",
        "      def free_cell( self, direction, cell ):\n",
        "        row, col = cell\n",
        "        offrow, offcol = BlockState.neighbour_offset[direction]\n",
        "        neighrow, neighcol = (row + offrow, col + offcol)\n",
        "        if not (0 <= neighrow < self.nrows): return False #at top or bottom\n",
        "        if not (0 <= neighcol < self.ncols): return False #at left or right\n",
        "        neighval = self.blockstate[neighrow][neighcol]\n",
        "        # Neighboring cell must be empty or part of the same coloured block\n",
        "        return  (neighval==0 or neighval==self.blockstate[row][col])\n",
        "\n",
        "      def free_block( self, direction, blockn ):\n",
        "          blockcells = self.blockcells(blockn)\n",
        "          for cell in blockcells:\n",
        "            if not self.free_cell(direction, cell):\n",
        "              return False\n",
        "          return True\n",
        "\n",
        "      def possible_moves(self):\n",
        "        moves = []\n",
        "        for blocknum in self.blocknumlist:\n",
        "          for direction in [\"left\", \"right\", \"down\", \"up\"]:\n",
        "              if self.free_block(direction, blocknum):\n",
        "                  moves.append((blocknum, direction))\n",
        "        return moves\n",
        "\n",
        "      def next_state(self, move):\n",
        "          next_blockstate = deepcopy(self.blockstate)\n",
        "          blockno, direction = move\n",
        "          cells = self.blockcells(blockno)\n",
        "          ## first clear all cells of the block (set to 0)\n",
        "          for cell in cells:\n",
        "            row, col = cell\n",
        "            next_blockstate[row][col] = 0\n",
        "          rowoff, coloff = BlockState.neighbour_offset[direction]\n",
        "          ## now set all neighbour cells (in move direction) to be\n",
        "          ## cells with the blocknumber\n",
        "          for cell in cells:\n",
        "            row, col = cell\n",
        "            next_blockstate[row+rowoff][col+coloff] = blockno\n",
        "          return BlockState(next_blockstate)\n",
        "\n",
        "      def color_key(self):\n",
        "          return {b:self.colors[b] for b in self.blocknumlist}\n",
        "\n",
        "      def figure(self, scale=0.5):\n",
        "          nrows = self.nrows\n",
        "          ncols = self.ncols\n",
        "          fig, ax = plt.subplots(figsize=(ncols*scale+0.1,nrows*scale+0.1))\n",
        "          plt.close(fig)\n",
        "          ax.set_axis_off() # Don't show border lines and coordinate values\n",
        "\n",
        "          frame = patches.Rectangle((0,0),1,1, linewidth=5, edgecolor='k', facecolor='w')\n",
        "          ax.add_patch(frame)\n",
        "\n",
        "          for row in range(nrows):\n",
        "            for col in range(ncols):\n",
        "                greyrect = patches.Rectangle( (((col*0.9)/ncols)+0.05,\n",
        "                                               (((nrows-row-1)*0.9)/nrows)+0.05 ),\n",
        "                                            0.9/ncols, 0.9/nrows,\n",
        "                                            linewidth=1, edgecolor=\"gray\", facecolor=\"lightgray\")\n",
        "                ax.add_patch(greyrect)\n",
        "\n",
        "          for row in range(nrows):\n",
        "            for col in range(ncols):\n",
        "                cellval = self.blockstate[row][col]\n",
        "                if cellval > 0:\n",
        "                  cellcol = COLORS[cellval]\n",
        "                  rect = patches.Rectangle( (((col*0.9)/ncols)+0.05,\n",
        "                                             (((nrows-row-1)*0.9)/nrows)+0.05 ),\n",
        "                                            0.9/ncols, 0.9/nrows,\n",
        "                                            linewidth=0, edgecolor=cellcol, facecolor=cellcol)\n",
        "                  ax.add_patch(rect)\n",
        "          return fig\n",
        "\n",
        "      def display(self):\n",
        "          display(self.figure())\n",
        "\n",
        "from copy import deepcopy\n",
        "class SlidingBlocksPuzzle( SearchProblem ):\n",
        "\n",
        "    def __init__( self, initial_state, goal, colors=COLORS ):\n",
        "        \"\"\"\n",
        "        The __init__ method must set the initial state for the search.\n",
        "        Arguments could be added to __init__ and used to configure the\n",
        "        initial state and/or other aspects of a problem instance.\n",
        "        \"\"\"\n",
        "        self.initial_state = BlockState(initial_state, colors=colors)\n",
        "        self.colors = colors\n",
        "        self.goal = BlockState(goal)\n",
        "\n",
        "    def info(self):\n",
        "        print(\"Solve the following sliding blocks problem.\")\n",
        "        print(\"Get from this initial state:\")\n",
        "        self.initial_state.display()\n",
        "        print(\"To a state incorporating the following block position(s):\")\n",
        "        self.goal.display()\n",
        "        print(\"You need to slide the red block to cover the bottom right square.\")\n",
        "\n",
        "    def possible_actions(self, state):\n",
        "        return state.possible_moves()\n",
        "\n",
        "    def successor(self, state, action):\n",
        "        \"\"\"\n",
        "        This takes a state and an action and returns the new state resulting\n",
        "        from doing that action in that state. You can assume that the given\n",
        "        action is in the list of 'possible_actions' for that state.\n",
        "        \"\"\"\n",
        "        return state.next_state(action)\n",
        "\n",
        "    def goal_test(self, state):\n",
        "        \"\"\"\n",
        "        For the sliding blocks puzzles, the goal condition is reached when\n",
        "        all block possitions specified in the given goal state are satisfied by\n",
        "        the current state. But empty positions (ie 0s) in the goal are ignored,\n",
        "        so can be occupied by blocks in the current sate.\n",
        "        \"\"\"\n",
        "        for row in range(state.nrows):\n",
        "          for col in range(state.ncols):\n",
        "            goalnum = self.goal.blockstate[row][col]\n",
        "            if goalnum==0:\n",
        "              continue\n",
        "            if goalnum != state.blockstate[row][col]:\n",
        "              return False\n",
        "        return True\n",
        "\n",
        "\n",
        "    def cost(self, path, state):\n",
        "        \"\"\"\n",
        "        This is an optional method that you only need to define if you are using\n",
        "        a cost based algorithm such as \"uniform cost\" or \"A*\". It should return\n",
        "        the cost of reaching a given state via a given path.\n",
        "        If this is not re-defined, it will is assumed that each action costs one unit\n",
        "        of effort to perform, so it returns the length of the path.\n",
        "        \"\"\"\n",
        "        return len(path)\n",
        "\n",
        "    def display_action(self, action):\n",
        "        \"\"\"\n",
        "        You can set the way an action will be displayed in outputs.\n",
        "        \"\"\"\n",
        "        print((self.colors[action[0]], action[1]))\n",
        "\n",
        "    def display_state(self, state):\n",
        "        \"\"\"\n",
        "        You can set the way a state will be displayed in outputs.\n",
        "        \"\"\"\n",
        "        state.display()\n",
        "\n",
        "    def display_state_path( self, actions ):\n",
        "        \"\"\"\n",
        "        This defines output of a solution path when a list of actions\n",
        "        is applied to the initial state. It assumes it is a valid path\n",
        "        with all actions being possible in the preceeding state.\n",
        "        You probably don't need to override this.\n",
        "        \"\"\"\n",
        "        s = self.initial_state\n",
        "        self.display_state(s)\n",
        "        for a in actions:\n",
        "            self.display_action(a)\n",
        "            s = self.successor(s,a)\n",
        "            self.display_state(s)"
      ]
    },
    {
      "cell_type": "markdown",
      "metadata": {},
      "source": [
        "#### *A1(a) Puzzle Test Cases*\n",
        "For our test cases, we have chosen three different cases to model. \n",
        "\n",
        "Case 1:\\\n",
        "-A 3x3 grid, 4 small blocks.\\\n",
        "-This grid will test the different algorithm's efficiency when solving simpler problems.\n",
        "\n",
        "![Alt text](path/to/image.png)\n",
        "\n",
        "\n"
      ]
    },
    {
      "cell_type": "markdown",
      "metadata": {},
      "source": [
        "\n",
        "Case 2:\\\n",
        "-A grid resembling a maze, seemingly intuitive.\\\n",
        "-We tried a larger grid to simulate a path finding problem.\\\n"
      ]
    },
    {
      "cell_type": "markdown",
      "metadata": {},
      "source": [
        "\n",
        "Case 3:\\\n",
        "-A classic sliding block puzzle of higher difficulty.\\\n",
        "-Consisting of blocks with varying shape.\\\n",
        "-Requiring more moves, even with an optimal solution.\\\n",
        "\n",
        "\n"
      ]
    },
    {
      "cell_type": "code",
      "execution_count": null,
      "metadata": {},
      "outputs": [
        {
          "name": "stdout",
          "output_type": "stream",
          "text": [
            "Solve the following sliding blocks problem.\n",
            "Get from this initial state:\n"
          ]
        },
        {
          "data": {
            "image/png": "[encoded data removed]",
            "text/plain": [
              "<Figure size 160x160 with 1 Axes>"
            ]
          },
          "metadata": {},
          "output_type": "display_data"
        },
        {
          "name": "stdout",
          "output_type": "stream",
          "text": [
            "To a state incorporating the following block position(s):\n"
          ]
        },
        {
          "data": {
            "image/png": "[encoded data removed]",
            "text/plain": [
              "<Figure size 160x160 with 1 Axes>"
            ]
          },
          "metadata": {},
          "output_type": "display_data"
        },
        {
          "name": "stdout",
          "output_type": "stream",
          "text": [
            "You need to slide the red block to cover the bottom right square.\n",
            "\n",
            "** Running Brandon's Search Algorithm **\n",
            "Strategy: mode=BF/FIFO, cost=None, heuristic=None\n",
            "Max search nodes: 10000  (max number added to queue)\n",
            "Searching (will output '.' each 1000 goal_tests)\n",
            "\n",
            ":-)) *SUCCESS* ((-:\n",
            "\n",
            "Path length = 8\n",
            "Goal state is:\n"
          ]
        },
        {
          "data": {
            "image/png": "[encoded data removed]",
            "text/plain": [
              "<Figure size 160x160 with 1 Axes>"
            ]
          },
          "metadata": {},
          "output_type": "display_data"
        },
        {
          "name": "stdout",
          "output_type": "stream",
          "text": [
            "The action path to the solution is:\n",
            "('red', 'up')\n",
            "('red', 'right')\n",
            "('blue', 'right')\n",
            "('yellow', 'left')\n",
            "('blue', 'down')\n",
            "('red', 'left')\n",
            "('green', 'up')\n",
            "('blue', 'right')\n",
            "\n",
            "The state/action path to the solution is:\n"
          ]
        },
        {
          "data": {
            "image/png": "[encoded data removed]",
            "text/plain": [
              "<Figure size 160x160 with 1 Axes>"
            ]
          },
          "metadata": {},
          "output_type": "display_data"
        },
        {
          "name": "stdout",
          "output_type": "stream",
          "text": [
            "('red', 'up')\n"
          ]
        },
        {
          "data": {
            "image/png": "[encoded data removed]",
            "text/plain": [
              "<Figure size 160x160 with 1 Axes>"
            ]
          },
          "metadata": {},
          "output_type": "display_data"
        },
        {
          "name": "stdout",
          "output_type": "stream",
          "text": [
            "('red', 'right')\n"
          ]
        },
        {
          "data": {
            "image/png": "[encoded data removed]",
            "text/plain": [
              "<Figure size 160x160 with 1 Axes>"
            ]
          },
          "metadata": {},
          "output_type": "display_data"
        },
        {
          "name": "stdout",
          "output_type": "stream",
          "text": [
            "('blue', 'right')\n"
          ]
        },
        {
          "data": {
            "image/png": "[encoded data removed]",
            "text/plain": [
              "<Figure size 160x160 with 1 Axes>"
            ]
          },
          "metadata": {},
          "output_type": "display_data"
        },
        {
          "name": "stdout",
          "output_type": "stream",
          "text": [
            "('yellow', 'left')\n"
          ]
        },
        {
          "data": {
            "image/png": "[encoded data removed]",
            "text/plain": [
              "<Figure size 160x160 with 1 Axes>"
            ]
          },
          "metadata": {},
          "output_type": "display_data"
        },
        {
          "name": "stdout",
          "output_type": "stream",
          "text": [
            "('blue', 'down')\n"
          ]
        },
        {
          "data": {
            "image/png": "[encoded data removed]",
            "text/plain": [
              "<Figure size 160x160 with 1 Axes>"
            ]
          },
          "metadata": {},
          "output_type": "display_data"
        },
        {
          "name": "stdout",
          "output_type": "stream",
          "text": [
            "('red', 'left')\n"
          ]
        },
        {
          "data": {
            "image/png": "[encoded data removed]",
            "text/plain": [
              "<Figure size 160x160 with 1 Axes>"
            ]
          },
          "metadata": {},
          "output_type": "display_data"
        },
        {
          "name": "stdout",
          "output_type": "stream",
          "text": [
            "('green', 'up')\n"
          ]
        },
        {
          "data": {
            "image/png": "[encoded data removed]",
            "text/plain": [
              "<Figure size 160x160 with 1 Axes>"
            ]
          },
          "metadata": {},
          "output_type": "display_data"
        },
        {
          "name": "stdout",
          "output_type": "stream",
          "text": [
            "('blue', 'right')\n"
          ]
        },
        {
          "data": {
            "image/png": "[encoded data removed]",
            "text/plain": [
              "<Figure size 160x160 with 1 Axes>"
            ]
          },
          "metadata": {},
          "output_type": "display_data"
        },
        {
          "name": "stdout",
          "output_type": "stream",
          "text": [
            "\n",
            "SEARCH SPACE STATS:\n",
            "Total nodes generated          =     2838  (includes start)\n",
            "Nodes discarded by loop_check  =     2149  (689 distinct states added to queue)\n",
            "Nodes tested (by goal_test)    =      545  (544 expanded + 1 goal)\n",
            "Nodes left in queue            =      144\n",
            "\n",
            "Time taken = 0.6727 seconds\n",
            "\n"
          ]
        }
      ],
      "source": [
        "#Easy Puzzle\n",
        "\n",
        "easy = [[2,0,0],\n",
        "         [2,1,3],\n",
        "         [0,4,0]]\n",
        "\n",
        "easy_goal = [[0,0,0],\n",
        "            [0,0,2],\n",
        "            [0,0,2]]\n",
        "\n",
        "easy_puzzle =  SlidingBlocksPuzzle(easy, easy_goal )\n",
        "\n",
        "test = SlidingBlocksPuzzle(easy, easy_goal )\n",
        "\n",
        "search\n",
        "\n",
        "hard = [[0,0,4,0,0],\n",
        "        [3,3,4,4,4],\n",
        "        [1,2,7,7,5],\n",
        "        [1,2,7,7,6],\n",
        "        [1,1,1,0,0]]\n",
        "\n",
        "hard_goal    = [[0,0,0,0,0],\n",
        "                [0,0,0,0,0],\n",
        "                [0,0,0,0,0],\n",
        "                [7,7,0,0,0],\n",
        "                [7,7,0,0,0]]\n",
        "\n",
        "\n",
        "\n",
        "\n",
        "\n",
        "\n",
        "\n",
        "\n",
        "test = SlidingBlocksPuzzle(hard, hard_goal)\n",
        "\n",
        "\n",
        "\n",
        "\n",
        "\n",
        "easy_search = search( easy_puzzle, 'BF/FIFO', 10000, loop_check=True, randomise=False, show_state_path=True, return_info=True)"
      ]
    },
    {
      "cell_type": "code",
      "execution_count": null,
      "metadata": {},
      "outputs": [],
      "source": [
        "#Medium puzzle\n",
        "\n",
        "medium =[[1,1,1,1,1,1,7],\n",
        "        [1,8,0,1,6,0,7],\n",
        "        [1,1,0,1,0,7,7],\n",
        "        [5,5,0,1,0,7,7],\n",
        "        [5,5,0,2,0,7,7],\n",
        "        [5,5,0,3,7,7,7],\n",
        "        [4,4,4,3,7,7,7]]\n",
        "\n",
        "medium_goal = [[0,0,0,0,0,0,0],\n",
        "                [0,6,0,0,0,8,0],\n",
        "                [0,0,0,0,0,0,0],\n",
        "                [0,0,0,0,0,0,0],\n",
        "                [0,0,0,0,0,0,0],\n",
        "                [0,0,0,0,0,0,0],\n",
        "                [0,0,0,0,0,0,0]]\n",
        "\n",
        "\n",
        "medium_puzzle =  SlidingBlocksPuzzle(medium, medium_goal )\n",
        "\n",
        "#medium_search = search( medium_puzzle, 'DF', 1000000000, loop_check=True, randomise=False, show_state_path=True, return_info=True)"
      ]
    },
    {
      "cell_type": "code",
      "execution_count": 19,
      "metadata": {},
      "outputs": [
        {
          "name": "stdout",
          "output_type": "stream",
          "text": [
            "Solve the following sliding blocks problem.\n",
            "Get from this initial state:\n"
          ]
        },
        {
          "data": {
            "image/png": "[encoded data removed]",
            "text/plain": [
              "<Figure size 260x260 with 1 Axes>"
            ]
          },
          "metadata": {},
          "output_type": "display_data"
        },
        {
          "name": "stdout",
          "output_type": "stream",
          "text": [
            "To a state incorporating the following block position(s):\n"
          ]
        },
        {
          "data": {
            "image/png": "[encoded data removed]",
            "text/plain": [
              "<Figure size 260x260 with 1 Axes>"
            ]
          },
          "metadata": {},
          "output_type": "display_data"
        },
        {
          "name": "stdout",
          "output_type": "stream",
          "text": [
            "You need to slide the red block to cover the bottom right square.\n",
            "\n",
            "** Running Brandon's Search Algorithm **\n",
            "Strategy: mode=BF/FIFO, cost=None, heuristic=None\n",
            "Max search nodes: 100000  (max number added to queue)\n",
            "Searching (will output '.' each 1000 goal_tests)\n",
            ".....\n",
            ":-)) *SUCCESS* ((-:\n",
            "\n",
            "Path length = 49\n",
            "Goal state is:\n"
          ]
        },
        {
          "data": {
            "image/png": "[encoded data removed]",
            "text/plain": [
              "<Figure size 260x260 with 1 Axes>"
            ]
          },
          "metadata": {},
          "output_type": "display_data"
        },
        {
          "name": "stdout",
          "output_type": "stream",
          "text": [
            "The action path to the solution is:\n",
            "('green', 'up')\n",
            "('blue', 'up')\n",
            "('purple', 'down')\n",
            "('orange', 'down')\n",
            "('purple', 'left')\n",
            "('orange', 'down')\n",
            "('pink', 'right')\n",
            "('red', 'up')\n",
            "('purple', 'left')\n",
            "('orange', 'left')\n",
            "('purple', 'left')\n",
            "('orange', 'left')\n",
            "('pink', 'down')\n",
            "('yellow', 'down')\n",
            "('green', 'right')\n",
            "('green', 'right')\n",
            "('green', 'right')\n",
            "('yellow', 'up')\n",
            "('pink', 'up')\n",
            "('orange', 'right')\n",
            "('orange', 'right')\n",
            "('purple', 'right')\n",
            "('purple', 'right')\n",
            "('red', 'down')\n",
            "('blue', 'down')\n",
            "('yellow', 'left')\n",
            "('yellow', 'left')\n",
            "('pink', 'left')\n",
            "('orange', 'up')\n",
            "('orange', 'up')\n",
            "('orange', 'up')\n",
            "('orange', 'left')\n",
            "('purple', 'right')\n",
            "('purple', 'up')\n",
            "('purple', 'up')\n",
            "('purple', 'up')\n",
            "('pink', 'right')\n",
            "('pink', 'down')\n",
            "('orange', 'down')\n",
            "('yellow', 'right')\n",
            "('purple', 'down')\n",
            "('yellow', 'right')\n",
            "('blue', 'up')\n",
            "('red', 'up')\n",
            "('blue', 'up')\n",
            "('red', 'up')\n",
            "('pink', 'left')\n",
            "('pink', 'left')\n",
            "('pink', 'left')\n",
            "\n",
            "\n",
            "SEARCH SPACE STATS:\n",
            "Total nodes generated          =    25871  (includes start)\n",
            "Nodes discarded by loop_check  =    20298  (5573 distinct states added to queue)\n",
            "Nodes tested (by goal_test)    =     5229  (5228 expanded + 1 goal)\n",
            "Nodes left in queue            =      344\n",
            "\n",
            "Time taken = 0.856 seconds\n",
            "\n",
            "Solve the following sliding blocks problem.\n",
            "Get from this initial state:\n"
          ]
        },
        {
          "data": {
            "image/png": "[encoded data removed]",
            "text/plain": [
              "<Figure size 260x260 with 1 Axes>"
            ]
          },
          "metadata": {},
          "output_type": "display_data"
        },
        {
          "name": "stdout",
          "output_type": "stream",
          "text": [
            "To a state incorporating the following block position(s):\n"
          ]
        },
        {
          "data": {
            "image/png": "[encoded data removed]",
            "text/plain": [
              "<Figure size 260x260 with 1 Axes>"
            ]
          },
          "metadata": {},
          "output_type": "display_data"
        },
        {
          "name": "stdout",
          "output_type": "stream",
          "text": [
            "You need to slide the red block to cover the bottom right square.\n",
            "\n",
            "** Running Brandon's Search Algorithm **\n",
            "Strategy: mode=BF/FIFO, cost=None, heuristic=None\n",
            "Max search nodes: 100000  (max number added to queue)\n",
            "Searching (will output '.' each 1000 goal_tests)\n",
            ".....\n",
            ":-)) *SUCCESS* ((-:\n",
            "\n",
            "Path length = 49\n",
            "Goal state is:\n"
          ]
        },
        {
          "data": {
            "image/png": "[encoded data removed]",
            "text/plain": [
              "<Figure size 260x260 with 1 Axes>"
            ]
          },
          "metadata": {},
          "output_type": "display_data"
        },
        {
          "name": "stdout",
          "output_type": "stream",
          "text": [
            "The action path to the solution is:\n",
            "('green', 'up')\n",
            "('blue', 'up')\n",
            "('purple', 'down')\n",
            "('orange', 'down')\n",
            "('purple', 'left')\n",
            "('orange', 'down')\n",
            "('pink', 'right')\n",
            "('red', 'up')\n",
            "('purple', 'left')\n",
            "('orange', 'left')\n",
            "('purple', 'left')\n",
            "('orange', 'left')\n",
            "('pink', 'down')\n",
            "('yellow', 'down')\n",
            "('green', 'right')\n",
            "('green', 'right')\n",
            "('green', 'right')\n",
            "('yellow', 'up')\n",
            "('pink', 'up')\n",
            "('orange', 'right')\n",
            "('orange', 'right')\n",
            "('purple', 'right')\n",
            "('purple', 'right')\n",
            "('red', 'down')\n",
            "('blue', 'down')\n",
            "('yellow', 'left')\n",
            "('yellow', 'left')\n",
            "('pink', 'left')\n",
            "('orange', 'up')\n",
            "('orange', 'up')\n",
            "('orange', 'up')\n",
            "('orange', 'left')\n",
            "('purple', 'right')\n",
            "('purple', 'up')\n",
            "('purple', 'up')\n",
            "('purple', 'up')\n",
            "('pink', 'right')\n",
            "('pink', 'down')\n",
            "('orange', 'down')\n",
            "('yellow', 'right')\n",
            "('purple', 'down')\n",
            "('yellow', 'right')\n",
            "('blue', 'up')\n",
            "('red', 'up')\n",
            "('blue', 'up')\n",
            "('red', 'up')\n",
            "('pink', 'left')\n",
            "('pink', 'left')\n",
            "('pink', 'left')\n",
            "\n",
            "\n",
            "SEARCH SPACE STATS:\n",
            "Total nodes generated          =    25871  (includes start)\n",
            "Nodes discarded by loop_check  =    20298  (5573 distinct states added to queue)\n",
            "Nodes tested (by goal_test)    =     5229  (5228 expanded + 1 goal)\n",
            "Nodes left in queue            =      344\n",
            "\n",
            "Time taken = 0.9141 seconds\n",
            "\n"
          ]
        }
      ],
      "source": [
        "#Hard puzzle\n",
        "\n",
        "hard = [[0,0,4,0,0],\n",
        "        [3,3,4,4,4],\n",
        "        [1,2,7,7,5],\n",
        "        [1,2,7,7,6],\n",
        "        [1,1,1,0,0]]\n",
        "\n",
        "hard_goal    = [[0,0,0,0,0],\n",
        "                [0,0,0,0,0],\n",
        "                [0,0,0,0,0],\n",
        "                [7,7,0,0,0],\n",
        "                [7,7,0,0,0]]\n",
        "\n",
        "hard_puzzle =  SlidingBlocksPuzzle(hard, hard_goal)\n",
        "\n",
        "hard_search_BF = search( hard_puzzle, 'BF/FIFO', 100000, loop_check=True, randomise=False, show_state_path=False, return_info=True)\n",
        "hard_search_DF = search( hard_puzzle, 'BF/FIFO', 100000, loop_check=True, randomise=False, show_state_path=False, return_info=True)\n",
        "##hard_search_best_first = search( hard_puzzle, 'BF/FIFO', 100000, loop_check=True, randomise=False, show_state_path=False, return_info=True)\n",
        "##hard_search_A_star = search( hard_puzzle, 'BF/FIFO', 100000, loop_check=True, randomise=False, show_state_path=False, return_info=True)\n"
      ]
    },
    {
      "cell_type": "code",
      "execution_count": null,
      "metadata": {},
      "outputs": [],
      "source": [
        "#Youtube puzzle\n",
        "'''\n",
        "YouTubeVideo = [[5,7,8,0],\n",
        "        [6,7,9,0],\n",
        "        [4,10,10,3],\n",
        "        [4,10,10,3],\n",
        "        [1,1,2,2]]\n",
        "\n",
        "YouTubeVideoGoal    = [[0,0,0,0],\n",
        "                [0,0,0,0],\n",
        "                [0,0,0,0],\n",
        "                [0,10,10,0],\n",
        "                [0,10,10,0]]\n",
        "\n",
        "yt_puzzle =  SlidingBlocksPuzzle(YouTubeVideo, YouTubeVideoGoal )'''\n",
        "\n",
        "#yt_search = search( yt_puzzle, 'BF/FIFO', 100000000, loop_check=True, randomise=False, show_state_path=True, return_info=True)"
      ]
    },
    {
      "cell_type": "markdown",
      "metadata": {
        "colab_type": "text",
        "id": "view-in-github"
      },
      "source": [
        "<a href=\"https://colab.research.google.com/github/mario-manini/AICwk/blob/main/SlidingBlocks.ipynb\" target=\"_parent\"><img src=\"https://colab.research.google.com/assets/colab-badge.svg\" alt=\"Open In Colab\"/></a>"
      ]
    },
    {
      "cell_type": "markdown",
      "metadata": {},
      "source": [
        "\n",
        "\n",
        "\n",
        "\n",
        "\n",
        "\n",
        "\n",
        "\n",
        "\n",
        "\n",
        "\n",
        "\n",
        "\n",
        "\n",
        "\n",
        "\n",
        "\n",
        "\n",
        "\n",
        "\n",
        "\n",
        "\n",
        "\n",
        "\n",
        "\n",
        "\n",
        "\n",
        "\n",
        "\n",
        "\n",
        "\n",
        "\n",
        "\n",
        "\n",
        "\n",
        "\n",
        "\n",
        "\n",
        "\n",
        "\n",
        "\n",
        "\n",
        "\n",
        "\n",
        "\n",
        "\n",
        "\n",
        "\n",
        "\n",
        "\n",
        "\n",
        "\n",
        "\n",
        "\n",
        "\n",
        "\n",
        "\n",
        "# ---------------------------------------------------"
      ]
    },
    {
      "cell_type": "markdown",
      "metadata": {
        "id": "V3VkWCHXx5GH"
      },
      "source": [
        "## **Sliding Blocks Report**\n",
        "# Sliding Blocks Puzzles\n",
        "\n",
        "Mario Manini & Jonghyun Kim\n",
        "\n",
        "In this exercise we shall investigate a family of _**sliding blocks**_ puzzles, which can be regarded as a generalisation of puzzles such as **8-Puzzle** and **15-Puzzle**. We now consider puzzles in which the sliding elements are not only single squares but can also be any shape formed by joining several squares\n",
        "(sometimes called _polyominoes_).\n",
        "\n",
        "You can see a wide variety of examples of sliding block puzzles at:\n",
        "* [Nick Baxter's Sliding Block Puzzle Page](https://www.johnrausch.com/SlidingBlockPuzzles/)\n",
        "\n",
        "### Exercise Overview\n",
        "\n",
        "This exercise will provide you with classes that can represent sliding blocks puzzles in a general way and include methods that interface the representation with Brandon's `bbSearch` module.\n",
        "\n",
        "It will illustrate the use of `bbSearch` for this kind of problem with a few examples. It will then consider possible heuristics. You will see that event quite simple heuristics can give very significant performance improvements, compared to exhaustive un-informed search.\n",
        "\n",
        "Having seen these examples you will be ready to do some investigation and experimentation on your own, including:\n",
        "\n",
        "* Creating your own puzzles of different levels of difficulty.\n",
        "* Testing different search algorithms and parameters.\n",
        "* Devising heuristics to guide the search.\n",
        "* Carrying out systemmatic comparisons between different search algorithms on a variety of different problems and using different heuristics."
      ]
    },
    {
      "cell_type": "markdown",
      "metadata": {
        "id": "UFW0VQew07wZ"
      },
      "source": [
        "### Setup\n",
        "\n",
        "As usual we will be using `bbSearch.py`, which is loaded by the following cell. By now, if you have been doing the search exercises you should be familiar with how this software works. However, if you need some revision of how to run the search algorithm and the various options available, you should go back to **Search Exercise 2** which explains the basic usuage. And you may also want to go through some of the examples in exercises **3-6**."
      ]
    },
    {
      "cell_type": "code",
      "execution_count": null,
      "metadata": {
        "colab": {
          "base_uri": "https://localhost:8080/"
        },
        "id": "ka6-us-52Xp-",
        "outputId": "bf5518ed-86fd-45f2-fc5d-fcc7f422d393"
      },
      "outputs": [],
      "source": []
    },
    {
      "cell_type": "markdown",
      "metadata": {
        "id": "dWbwHZ3R3b8s"
      },
      "source": [
        "### State Representation:\n",
        "We will represent a given state of a sliding blocks puzzle by an array stored as a list of lists --- a list of rows, with each row being a list of individual cells. (This representation has been chosen for clarity rather than efficiency.) Each cell will contain an integer, where `0` will represent an empty cell and positive integers will represent the colour of a _polyomino_ section contained in that cell.\n",
        "\n",
        "So a state might be represented as follows:\n",
        "```python\n",
        "  [ [1,3,0,0,0,0,6],\n",
        "    [1,3,4,4,0,0,0],\n",
        "    [3,3,4,0,0,0,0],\n",
        "    [0,4,4,2,0,0,0],\n",
        "    [0,0,2,2,5,5,5] ]\n",
        "```\n",
        "You will see a colouful graphic representation of this puzzle state below, once we have defined a class of storing, manipulating and displaying puzzle states.\n"
      ]
    },
    {
      "cell_type": "markdown",
      "metadata": {
        "id": "3PUSiSBd6BoU"
      },
      "source": [
        "## The `BlockState` Class\n",
        "\n",
        "Although the list-of-lists array format is a concise way to specify and store puzzle states, it will be convenient to define a class that can encapsulate the various methods that we will want to use to access, manipulate, and display the states of a Sliding Blocks puzzle.\n",
        "\n",
        "Take a look at the following code cell that defines `BlockState`. You don't need to worry much about `figure` that creates a graphical display. However, it will be useful to look at: `possible_moves` and `next_state`, which will be used by the search algorithm, and it may also be interesting to look at `free_cell` and `free_block`, that are used in calculating `possible_moves`.\n",
        "\n",
        "Note the global variable `COLORS`, which implicitly specifies a mapping from integers to colours that is used to specify board states and goals. Integer `n` corresponds to the `n`th colour name in the list."
      ]
    },
    {
      "cell_type": "code",
      "execution_count": null,
      "metadata": {
        "id": "c6a4l5en38si"
      },
      "outputs": [],
      "source": []
    },
    {
      "cell_type": "code",
      "execution_count": null,
      "metadata": {
        "id": "LfEWfEJxDVm_"
      },
      "outputs": [],
      "source": [
        "def red_right_heuristic(state):\n",
        "    for row in state.blockstate:\n",
        "      for i, col in enumerate(row):\n",
        "          if col == 1:\n",
        "            return 6-i\n",
        "\n"
      ]
    },
    {
      "cell_type": "code",
      "execution_count": null,
      "metadata": {},
      "outputs": [],
      "source": [
        "def manhattan_heuristic(state):\n",
        "    print(test.goal)\n",
        "\n",
        "    totaldistance = 0\n",
        "    found = []\n",
        "\n",
        "    statecopy = deepcopy(state)\n",
        "\n",
        "    for row_index, row in enumerate(test.goal.blockstate):\n",
        "        for col_index, cell in enumerate(row):\n",
        "            if (cell != 0):  \n",
        "                #If a non zero is found in the goal state\n",
        "                # Locate the cell in state and find the closest one\n",
        "                for current_row_index, current_row in enumerate(statecopy.blockstate):\n",
        "                    for current_col_index, currentcell in enumerate(current_row):\n",
        "                        distance = 0\n",
        "                        if currentcell == cell:\n",
        "                            distance = abs(current_row_index - row_index) + abs(current_col_index - col_index)\n",
        "                            totaldistance += distance\n",
        "                            print(f\"added {distance}\")\n",
        "                            statecopy.blockstate[current_row_index][current_col_index] = 0\n",
        "\n",
        "                            print(\"\\n\")\n",
        "                            for row in statecopy.blockstate:\n",
        "                                print(row)\n",
        "                                \n",
        "    return totaldistance\n",
        "\n",
        "\n",
        "    #totaldistance = totaldistance + abs()\n",
        "    #get the distance using goal and state and add it to total distance\n",
        "\n",
        "\n",
        "\n",
        "    #compare this to state.blockstate[row][cell]\n",
        "    #add the number to found\n",
        "    #Look at the state and look at the goal and \n"
      ]
    },
    {
      "cell_type": "code",
      "execution_count": null,
      "metadata": {},
      "outputs": [
        {
          "name": "stdout",
          "output_type": "stream",
          "text": [
            "[[0, 0, 0, 0, 0, 0, 0], [0, 6, 0, 0, 0, 8, 0], [0, 0, 0, 0, 0, 0, 0], [0, 0, 0, 0, 0, 0, 0], [0, 0, 0, 0, 0, 0, 0], [0, 0, 0, 0, 0, 0, 0], [0, 0, 0, 0, 0, 0, 0]]\n",
            "added 3\n",
            "\n",
            "\n",
            "[1, 1, 1, 1, 1, 1, 7]\n",
            "[1, 8, 0, 1, 0, 0, 7]\n",
            "[1, 1, 0, 1, 0, 7, 7]\n",
            "[5, 5, 0, 1, 0, 7, 7]\n",
            "[5, 5, 0, 2, 0, 7, 7]\n",
            "[5, 5, 0, 3, 7, 7, 7]\n",
            "[4, 4, 4, 3, 7, 7, 7]\n",
            "added 4\n",
            "\n",
            "\n",
            "[1, 1, 1, 1, 1, 1, 7]\n",
            "[1, 0, 0, 1, 0, 0, 7]\n",
            "[1, 1, 0, 1, 0, 7, 7]\n",
            "[5, 5, 0, 1, 0, 7, 7]\n",
            "[5, 5, 0, 2, 0, 7, 7]\n",
            "[5, 5, 0, 3, 7, 7, 7]\n",
            "[4, 4, 4, 3, 7, 7, 7]\n",
            "7\n"
          ]
        }
      ],
      "source": [
        "state =[[1,1,1,1,1,1,7],\n",
        "        [1,8,0,1,6,0,7],\n",
        "        [1,1,0,1,0,7,7],\n",
        "        [5,5,0,1,0,7,7],\n",
        "        [5,5,0,2,0,7,7],\n",
        "        [5,5,0,3,7,7,7],\n",
        "        [4,4,4,3,7,7,7]]\n",
        "\n",
        "bs = BlockState(state) #EXAMPLE STATE\n",
        "\n",
        "\n",
        "medium =[[1,1,1,1,1,1,7],\n",
        "        [1,8,0,1,6,0,7],\n",
        "        [1,1,0,1,0,7,7],\n",
        "        [5,5,0,1,0,7,7],\n",
        "        [5,5,0,2,0,7,7],\n",
        "        [5,5,0,3,7,7,7],\n",
        "        [4,4,4,3,7,7,7]]\n",
        "\n",
        "medium_goal = [[0,0,0,0,0,0,0],\n",
        "                [0,6,0,0,0,8,0],\n",
        "                [0,0,0,0,0,0,0],\n",
        "                [0,0,0,0,0,0,0],\n",
        "                [0,0,0,0,0,0,0],\n",
        "                [0,0,0,0,0,0,0],\n",
        "                [0,0,0,0,0,0,0]]\n",
        "test = SlidingBlocksPuzzle(medium, medium_goal)\n",
        "print(manhattan_heuristic(bs))"
      ]
    },
    {
      "cell_type": "code",
      "execution_count": 50,
      "metadata": {},
      "outputs": [
        {
          "name": "stdout",
          "output_type": "stream",
          "text": [
            "hi\n",
            "[[0, 0, 0, 0, 0], [0, 0, 0, 0, 0], [0, 0, 0, 0, 0], [7, 7, 0, 0, 0], [7, 7, 0, 0, 0]]\n",
            "added 3\n",
            "\n",
            "\n",
            "[0, 0, 4, 0, 0]\n",
            "[3, 3, 4, 4, 4]\n",
            "[1, 2, 0, 7, 5]\n",
            "[1, 2, 7, 7, 6]\n",
            "[1, 1, 1, 0, 0]\n",
            "added 4\n",
            "\n",
            "\n",
            "[0, 0, 4, 0, 0]\n",
            "[3, 3, 4, 4, 4]\n",
            "[1, 2, 0, 0, 5]\n",
            "[1, 2, 7, 7, 6]\n",
            "[1, 1, 1, 0, 0]\n",
            "added 2\n",
            "\n",
            "\n",
            "[0, 0, 4, 0, 0]\n",
            "[3, 3, 4, 4, 4]\n",
            "[1, 2, 0, 0, 5]\n",
            "[1, 2, 0, 7, 6]\n",
            "[1, 1, 1, 0, 0]\n",
            "added 3\n",
            "\n",
            "\n",
            "[0, 0, 4, 0, 0]\n",
            "[3, 3, 4, 4, 4]\n",
            "[1, 2, 0, 0, 5]\n",
            "[1, 2, 0, 0, 6]\n",
            "[1, 1, 1, 0, 0]\n",
            "12\n"
          ]
        }
      ],
      "source": [
        "\n",
        "bs = [[0,0,4,0,0],\n",
        "        [3,3,4,4,4],\n",
        "        [1,2,7,7,5],\n",
        "        [1,2,7,7,6],\n",
        "        [1,1,1,0,0]]\n",
        "\n",
        "ts = BlockState(bs) #EXAMPLE STATE\n",
        "\n",
        "\n",
        "hard = [[0,0,4,0,0],\n",
        "        [3,3,4,4,4],\n",
        "        [1,2,7,7,5],\n",
        "        [1,2,7,7,6],\n",
        "        [1,1,1,0,0]]\n",
        "\n",
        "hard_goal    = [[0,0,0,0,0],\n",
        "                [0,0,0,0,0],\n",
        "                [0,0,0,0,0],\n",
        "                [7,7,0,0,0],\n",
        "                [7,7,0,0,0]]\n",
        "\n",
        "test = SlidingBlocksPuzzle(hard, hard_goal)\n",
        "print(\"hi\")\n",
        "print(manhattan_heuristic(ts))\n",
        "\n",
        "\n",
        "\n"
      ]
    },
    {
      "cell_type": "code",
      "execution_count": 22,
      "metadata": {
        "id": "04f4Gy6Wvm3o"
      },
      "outputs": [
        {
          "name": "stdout",
          "output_type": "stream",
          "text": [
            "Solve the following sliding blocks problem.\n",
            "Get from this initial state:\n"
          ]
        },
        {
          "data": {
            "image/png": "[encoded data removed]",
            "text/plain": [
              "<Figure size 260x260 with 1 Axes>"
            ]
          },
          "metadata": {},
          "output_type": "display_data"
        },
        {
          "name": "stdout",
          "output_type": "stream",
          "text": [
            "To a state incorporating the following block position(s):\n"
          ]
        },
        {
          "data": {
            "image/png": "[encoded data removed]",
            "text/plain": [
              "<Figure size 260x260 with 1 Axes>"
            ]
          },
          "metadata": {},
          "output_type": "display_data"
        },
        {
          "name": "stdout",
          "output_type": "stream",
          "text": [
            "You need to slide the red block to cover the bottom right square.\n",
            "\n",
            "** Running Brandon's Search Algorithm **\n",
            "Strategy: mode=BF/FIFO, cost=None, heuristic=purple_heuristic\n",
            "Max search nodes: 10000000  (max number added to queue)\n",
            "Searching (will output '.' each 1000 goal_tests)\n",
            "....\n",
            ":-)) *SUCCESS* ((-:\n",
            "\n",
            "Path length = 119\n",
            "Goal state is:\n"
          ]
        },
        {
          "data": {
            "image/png": "[encoded data removed]",
            "text/plain": [
              "<Figure size 260x260 with 1 Axes>"
            ]
          },
          "metadata": {},
          "output_type": "display_data"
        },
        {
          "name": "stdout",
          "output_type": "stream",
          "text": [
            "The action path to the solution is:\n",
            "('purple', 'down')\n",
            "('purple', 'left')\n",
            "('green', 'up')\n",
            "('blue', 'up')\n",
            "('orange', 'down')\n",
            "('orange', 'down')\n",
            "('pink', 'right')\n",
            "('red', 'up')\n",
            "('purple', 'left')\n",
            "('purple', 'left')\n",
            "('purple', 'left')\n",
            "('orange', 'left')\n",
            "('orange', 'left')\n",
            "('pink', 'down')\n",
            "('yellow', 'down')\n",
            "('green', 'right')\n",
            "('green', 'right')\n",
            "('blue', 'up')\n",
            "('green', 'right')\n",
            "('yellow', 'up')\n",
            "('red', 'up')\n",
            "('purple', 'up')\n",
            "('pink', 'up')\n",
            "('orange', 'right')\n",
            "('orange', 'right')\n",
            "('purple', 'down')\n",
            "('red', 'down')\n",
            "('purple', 'right')\n",
            "('purple', 'right')\n",
            "('purple', 'right')\n",
            "('red', 'down')\n",
            "('pink', 'left')\n",
            "('pink', 'left')\n",
            "('purple', 'up')\n",
            "('purple', 'up')\n",
            "('blue', 'left')\n",
            "('yellow', 'left')\n",
            "('purple', 'right')\n",
            "('purple', 'up')\n",
            "('green', 'left')\n",
            "('purple', 'up')\n",
            "('orange', 'up')\n",
            "('orange', 'up')\n",
            "('orange', 'up')\n",
            "('pink', 'right')\n",
            "('pink', 'right')\n",
            "('pink', 'down')\n",
            "('yellow', 'down')\n",
            "('green', 'down')\n",
            "('purple', 'left')\n",
            "('purple', 'left')\n",
            "('purple', 'left')\n",
            "('orange', 'up')\n",
            "('green', 'right')\n",
            "('yellow', 'right')\n",
            "('purple', 'right')\n",
            "('blue', 'right')\n",
            "('blue', 'down')\n",
            "('purple', 'left')\n",
            "('purple', 'left')\n",
            "('blue', 'down')\n",
            "('orange', 'left')\n",
            "('orange', 'left')\n",
            "('green', 'up')\n",
            "('orange', 'left')\n",
            "('yellow', 'up')\n",
            "('blue', 'right')\n",
            "('orange', 'down')\n",
            "('orange', 'down')\n",
            "('orange', 'down')\n",
            "('purple', 'right')\n",
            "('purple', 'down')\n",
            "('purple', 'down')\n",
            "('yellow', 'left')\n",
            "('yellow', 'left')\n",
            "('green', 'down')\n",
            "('green', 'down')\n",
            "('yellow', 'right')\n",
            "('yellow', 'right')\n",
            "('purple', 'up')\n",
            "('purple', 'left')\n",
            "('purple', 'up')\n",
            "('orange', 'up')\n",
            "('orange', 'up')\n",
            "('blue', 'left')\n",
            "('green', 'left')\n",
            "('orange', 'up')\n",
            "('blue', 'up')\n",
            "('purple', 'down')\n",
            "('orange', 'left')\n",
            "('blue', 'up')\n",
            "('green', 'left')\n",
            "('green', 'down')\n",
            "('blue', 'down')\n",
            "('orange', 'right')\n",
            "('purple', 'up')\n",
            "('yellow', 'down')\n",
            "('orange', 'right')\n",
            "('orange', 'right')\n",
            "('purple', 'right')\n",
            "('purple', 'right')\n",
            "('blue', 'up')\n",
            "('blue', 'left')\n",
            "('purple', 'left')\n",
            "('yellow', 'left')\n",
            "('orange', 'right')\n",
            "('purple', 'right')\n",
            "('yellow', 'up')\n",
            "('green', 'up')\n",
            "('green', 'right')\n",
            "('green', 'right')\n",
            "('purple', 'right')\n",
            "('yellow', 'right')\n",
            "('blue', 'right')\n",
            "('red', 'up')\n",
            "('red', 'up')\n",
            "('pink', 'left')\n",
            "('pink', 'left')\n",
            "('pink', 'left')\n",
            "\n",
            "The state/action path to the solution is:\n"
          ]
        },
        {
          "data": {
            "image/png": "[encoded data removed]",
            "text/plain": [
              "<Figure size 260x260 with 1 Axes>"
            ]
          },
          "metadata": {},
          "output_type": "display_data"
        },
        {
          "name": "stdout",
          "output_type": "stream",
          "text": [
            "('purple', 'down')\n"
          ]
        },
        {
          "data": {
            "image/png": "[encoded data removed]",
            "text/plain": [
              "<Figure size 260x260 with 1 Axes>"
            ]
          },
          "metadata": {},
          "output_type": "display_data"
        },
        {
          "name": "stdout",
          "output_type": "stream",
          "text": [
            "('purple', 'left')\n"
          ]
        },
        {
          "data": {
            "image/png": "[encoded data removed]",
            "text/plain": [
              "<Figure size 260x260 with 1 Axes>"
            ]
          },
          "metadata": {},
          "output_type": "display_data"
        },
        {
          "name": "stdout",
          "output_type": "stream",
          "text": [
            "('green', 'up')\n"
          ]
        },
        {
          "data": {
            "image/png": "[encoded data removed]",
            "text/plain": [
              "<Figure size 260x260 with 1 Axes>"
            ]
          },
          "metadata": {},
          "output_type": "display_data"
        },
        {
          "name": "stdout",
          "output_type": "stream",
          "text": [
            "('blue', 'up')\n"
          ]
        },
        {
          "data": {
            "image/png": "[encoded data removed]",
            "text/plain": [
              "<Figure size 260x260 with 1 Axes>"
            ]
          },
          "metadata": {},
          "output_type": "display_data"
        },
        {
          "name": "stdout",
          "output_type": "stream",
          "text": [
            "('orange', 'down')\n"
          ]
        },
        {
          "data": {
            "image/png": "[encoded data removed]",
            "text/plain": [
              "<Figure size 260x260 with 1 Axes>"
            ]
          },
          "metadata": {},
          "output_type": "display_data"
        },
        {
          "name": "stdout",
          "output_type": "stream",
          "text": [
            "('orange', 'down')\n"
          ]
        },
        {
          "data": {
            "image/png": "[encoded data removed]",
            "text/plain": [
              "<Figure size 260x260 with 1 Axes>"
            ]
          },
          "metadata": {},
          "output_type": "display_data"
        },
        {
          "name": "stdout",
          "output_type": "stream",
          "text": [
            "('pink', 'right')\n"
          ]
        },
        {
          "data": {
            "image/png": "[encoded data removed]",
            "text/plain": [
              "<Figure size 260x260 with 1 Axes>"
            ]
          },
          "metadata": {},
          "output_type": "display_data"
        },
        {
          "name": "stdout",
          "output_type": "stream",
          "text": [
            "('red', 'up')\n"
          ]
        },
        {
          "data": {
            "image/png": "[encoded data removed]",
            "text/plain": [
              "<Figure size 260x260 with 1 Axes>"
            ]
          },
          "metadata": {},
          "output_type": "display_data"
        },
        {
          "name": "stdout",
          "output_type": "stream",
          "text": [
            "('purple', 'left')\n"
          ]
        },
        {
          "data": {
            "image/png": "[encoded data removed]",
            "text/plain": [
              "<Figure size 260x260 with 1 Axes>"
            ]
          },
          "metadata": {},
          "output_type": "display_data"
        },
        {
          "name": "stdout",
          "output_type": "stream",
          "text": [
            "('purple', 'left')\n"
          ]
        },
        {
          "data": {
            "image/png": "[encoded data removed]",
            "text/plain": [
              "<Figure size 260x260 with 1 Axes>"
            ]
          },
          "metadata": {},
          "output_type": "display_data"
        },
        {
          "name": "stdout",
          "output_type": "stream",
          "text": [
            "('purple', 'left')\n"
          ]
        },
        {
          "data": {
            "image/png": "[encoded data removed]",
            "text/plain": [
              "<Figure size 260x260 with 1 Axes>"
            ]
          },
          "metadata": {},
          "output_type": "display_data"
        },
        {
          "name": "stdout",
          "output_type": "stream",
          "text": [
            "('orange', 'left')\n"
          ]
        },
        {
          "data": {
            "image/png": "[encoded data removed]",
            "text/plain": [
              "<Figure size 260x260 with 1 Axes>"
            ]
          },
          "metadata": {},
          "output_type": "display_data"
        },
        {
          "name": "stdout",
          "output_type": "stream",
          "text": [
            "('orange', 'left')\n"
          ]
        },
        {
          "data": {
            "image/png": "[encoded data removed]",
            "text/plain": [
              "<Figure size 260x260 with 1 Axes>"
            ]
          },
          "metadata": {},
          "output_type": "display_data"
        },
        {
          "name": "stdout",
          "output_type": "stream",
          "text": [
            "('pink', 'down')\n"
          ]
        },
        {
          "data": {
            "image/png": "[encoded data removed]",
            "text/plain": [
              "<Figure size 260x260 with 1 Axes>"
            ]
          },
          "metadata": {},
          "output_type": "display_data"
        },
        {
          "name": "stdout",
          "output_type": "stream",
          "text": [
            "('yellow', 'down')\n"
          ]
        },
        {
          "data": {
            "image/png": "[encoded data removed]",
            "text/plain": [
              "<Figure size 260x260 with 1 Axes>"
            ]
          },
          "metadata": {},
          "output_type": "display_data"
        },
        {
          "name": "stdout",
          "output_type": "stream",
          "text": [
            "('green', 'right')\n"
          ]
        },
        {
          "data": {
            "image/png": "[encoded data removed]",
            "text/plain": [
              "<Figure size 260x260 with 1 Axes>"
            ]
          },
          "metadata": {},
          "output_type": "display_data"
        },
        {
          "name": "stdout",
          "output_type": "stream",
          "text": [
            "('green', 'right')\n"
          ]
        },
        {
          "data": {
            "image/png": "[encoded data removed]",
            "text/plain": [
              "<Figure size 260x260 with 1 Axes>"
            ]
          },
          "metadata": {},
          "output_type": "display_data"
        },
        {
          "name": "stdout",
          "output_type": "stream",
          "text": [
            "('blue', 'up')\n"
          ]
        },
        {
          "data": {
            "image/png": "[encoded data removed]",
            "text/plain": [
              "<Figure size 260x260 with 1 Axes>"
            ]
          },
          "metadata": {},
          "output_type": "display_data"
        },
        {
          "name": "stdout",
          "output_type": "stream",
          "text": [
            "('green', 'right')\n"
          ]
        },
        {
          "data": {
            "image/png": "[encoded data removed]",
            "text/plain": [
              "<Figure size 260x260 with 1 Axes>"
            ]
          },
          "metadata": {},
          "output_type": "display_data"
        },
        {
          "name": "stdout",
          "output_type": "stream",
          "text": [
            "('yellow', 'up')\n"
          ]
        },
        {
          "data": {
            "image/png": "[encoded data removed]",
            "text/plain": [
              "<Figure size 260x260 with 1 Axes>"
            ]
          },
          "metadata": {},
          "output_type": "display_data"
        },
        {
          "name": "stdout",
          "output_type": "stream",
          "text": [
            "('red', 'up')\n"
          ]
        },
        {
          "data": {
            "image/png": "[encoded data removed]",
            "text/plain": [
              "<Figure size 260x260 with 1 Axes>"
            ]
          },
          "metadata": {},
          "output_type": "display_data"
        },
        {
          "name": "stdout",
          "output_type": "stream",
          "text": [
            "('purple', 'up')\n"
          ]
        },
        {
          "data": {
            "image/png": "[encoded data removed]",
            "text/plain": [
              "<Figure size 260x260 with 1 Axes>"
            ]
          },
          "metadata": {},
          "output_type": "display_data"
        },
        {
          "name": "stdout",
          "output_type": "stream",
          "text": [
            "('pink', 'up')\n"
          ]
        },
        {
          "data": {
            "image/png": "[encoded data removed]",
            "text/plain": [
              "<Figure size 260x260 with 1 Axes>"
            ]
          },
          "metadata": {},
          "output_type": "display_data"
        },
        {
          "name": "stdout",
          "output_type": "stream",
          "text": [
            "('orange', 'right')\n"
          ]
        },
        {
          "data": {
            "image/png": "[encoded data removed]",
            "text/plain": [
              "<Figure size 260x260 with 1 Axes>"
            ]
          },
          "metadata": {},
          "output_type": "display_data"
        },
        {
          "name": "stdout",
          "output_type": "stream",
          "text": [
            "('orange', 'right')\n"
          ]
        },
        {
          "data": {
            "image/png": "[encoded data removed]",
            "text/plain": [
              "<Figure size 260x260 with 1 Axes>"
            ]
          },
          "metadata": {},
          "output_type": "display_data"
        },
        {
          "name": "stdout",
          "output_type": "stream",
          "text": [
            "('purple', 'down')\n"
          ]
        },
        {
          "data": {
            "image/png": "[encoded data removed]",
            "text/plain": [
              "<Figure size 260x260 with 1 Axes>"
            ]
          },
          "metadata": {},
          "output_type": "display_data"
        },
        {
          "name": "stdout",
          "output_type": "stream",
          "text": [
            "('red', 'down')\n"
          ]
        },
        {
          "data": {
            "image/png": "[encoded data removed]",
            "text/plain": [
              "<Figure size 260x260 with 1 Axes>"
            ]
          },
          "metadata": {},
          "output_type": "display_data"
        },
        {
          "name": "stdout",
          "output_type": "stream",
          "text": [
            "('purple', 'right')\n"
          ]
        },
        {
          "data": {
            "image/png": "[encoded data removed]",
            "text/plain": [
              "<Figure size 260x260 with 1 Axes>"
            ]
          },
          "metadata": {},
          "output_type": "display_data"
        },
        {
          "name": "stdout",
          "output_type": "stream",
          "text": [
            "('purple', 'right')\n"
          ]
        },
        {
          "data": {
            "image/png": "[encoded data removed]",
            "text/plain": [
              "<Figure size 260x260 with 1 Axes>"
            ]
          },
          "metadata": {},
          "output_type": "display_data"
        },
        {
          "name": "stdout",
          "output_type": "stream",
          "text": [
            "('purple', 'right')\n"
          ]
        },
        {
          "data": {
            "image/png": "[encoded data removed]",
            "text/plain": [
              "<Figure size 260x260 with 1 Axes>"
            ]
          },
          "metadata": {},
          "output_type": "display_data"
        },
        {
          "name": "stdout",
          "output_type": "stream",
          "text": [
            "('red', 'down')\n"
          ]
        },
        {
          "data": {
            "image/png": "[encoded data removed]",
            "text/plain": [
              "<Figure size 260x260 with 1 Axes>"
            ]
          },
          "metadata": {},
          "output_type": "display_data"
        },
        {
          "name": "stdout",
          "output_type": "stream",
          "text": [
            "('pink', 'left')\n"
          ]
        },
        {
          "data": {
            "image/png": "[encoded data removed]",
            "text/plain": [
              "<Figure size 260x260 with 1 Axes>"
            ]
          },
          "metadata": {},
          "output_type": "display_data"
        },
        {
          "name": "stdout",
          "output_type": "stream",
          "text": [
            "('pink', 'left')\n"
          ]
        },
        {
          "data": {
            "image/png": "[encoded data removed]",
            "text/plain": [
              "<Figure size 260x260 with 1 Axes>"
            ]
          },
          "metadata": {},
          "output_type": "display_data"
        },
        {
          "name": "stdout",
          "output_type": "stream",
          "text": [
            "('purple', 'up')\n"
          ]
        },
        {
          "data": {
            "image/png": "[encoded data removed]",
            "text/plain": [
              "<Figure size 260x260 with 1 Axes>"
            ]
          },
          "metadata": {},
          "output_type": "display_data"
        },
        {
          "name": "stdout",
          "output_type": "stream",
          "text": [
            "('purple', 'up')\n"
          ]
        },
        {
          "data": {
            "image/png": "[encoded data removed]",
            "text/plain": [
              "<Figure size 260x260 with 1 Axes>"
            ]
          },
          "metadata": {},
          "output_type": "display_data"
        },
        {
          "name": "stdout",
          "output_type": "stream",
          "text": [
            "('blue', 'left')\n"
          ]
        },
        {
          "data": {
            "image/png": "[encoded data removed]",
            "text/plain": [
              "<Figure size 260x260 with 1 Axes>"
            ]
          },
          "metadata": {},
          "output_type": "display_data"
        },
        {
          "name": "stdout",
          "output_type": "stream",
          "text": [
            "('yellow', 'left')\n"
          ]
        },
        {
          "data": {
            "image/png": "[encoded data removed]",
            "text/plain": [
              "<Figure size 260x260 with 1 Axes>"
            ]
          },
          "metadata": {},
          "output_type": "display_data"
        },
        {
          "name": "stdout",
          "output_type": "stream",
          "text": [
            "('purple', 'right')\n"
          ]
        },
        {
          "data": {
            "image/png": "[encoded data removed]",
            "text/plain": [
              "<Figure size 260x260 with 1 Axes>"
            ]
          },
          "metadata": {},
          "output_type": "display_data"
        },
        {
          "name": "stdout",
          "output_type": "stream",
          "text": [
            "('purple', 'up')\n"
          ]
        },
        {
          "data": {
            "image/png": "[encoded data removed]",
            "text/plain": [
              "<Figure size 260x260 with 1 Axes>"
            ]
          },
          "metadata": {},
          "output_type": "display_data"
        },
        {
          "name": "stdout",
          "output_type": "stream",
          "text": [
            "('green', 'left')\n"
          ]
        },
        {
          "data": {
            "image/png": "[encoded data removed]",
            "text/plain": [
              "<Figure size 260x260 with 1 Axes>"
            ]
          },
          "metadata": {},
          "output_type": "display_data"
        },
        {
          "name": "stdout",
          "output_type": "stream",
          "text": [
            "('purple', 'up')\n"
          ]
        },
        {
          "data": {
            "image/png": "[encoded data removed]",
            "text/plain": [
              "<Figure size 260x260 with 1 Axes>"
            ]
          },
          "metadata": {},
          "output_type": "display_data"
        },
        {
          "name": "stdout",
          "output_type": "stream",
          "text": [
            "('orange', 'up')\n"
          ]
        },
        {
          "data": {
            "image/png": "[encoded data removed]",
            "text/plain": [
              "<Figure size 260x260 with 1 Axes>"
            ]
          },
          "metadata": {},
          "output_type": "display_data"
        },
        {
          "name": "stdout",
          "output_type": "stream",
          "text": [
            "('orange', 'up')\n"
          ]
        },
        {
          "data": {
            "image/png": "[encoded data removed]",
            "text/plain": [
              "<Figure size 260x260 with 1 Axes>"
            ]
          },
          "metadata": {},
          "output_type": "display_data"
        },
        {
          "name": "stdout",
          "output_type": "stream",
          "text": [
            "('orange', 'up')\n"
          ]
        },
        {
          "data": {
            "image/png": "[encoded data removed]",
            "text/plain": [
              "<Figure size 260x260 with 1 Axes>"
            ]
          },
          "metadata": {},
          "output_type": "display_data"
        },
        {
          "name": "stdout",
          "output_type": "stream",
          "text": [
            "('pink', 'right')\n"
          ]
        },
        {
          "data": {
            "image/png": "[encoded data removed]",
            "text/plain": [
              "<Figure size 260x260 with 1 Axes>"
            ]
          },
          "metadata": {},
          "output_type": "display_data"
        },
        {
          "name": "stdout",
          "output_type": "stream",
          "text": [
            "('pink', 'right')\n"
          ]
        },
        {
          "data": {
            "image/png": "[encoded data removed]",
            "text/plain": [
              "<Figure size 260x260 with 1 Axes>"
            ]
          },
          "metadata": {},
          "output_type": "display_data"
        },
        {
          "name": "stdout",
          "output_type": "stream",
          "text": [
            "('pink', 'down')\n"
          ]
        },
        {
          "data": {
            "image/png": "[encoded data removed]",
            "text/plain": [
              "<Figure size 260x260 with 1 Axes>"
            ]
          },
          "metadata": {},
          "output_type": "display_data"
        },
        {
          "name": "stdout",
          "output_type": "stream",
          "text": [
            "('yellow', 'down')\n"
          ]
        },
        {
          "data": {
            "image/png": "[encoded data removed]",
            "text/plain": [
              "<Figure size 260x260 with 1 Axes>"
            ]
          },
          "metadata": {},
          "output_type": "display_data"
        },
        {
          "name": "stdout",
          "output_type": "stream",
          "text": [
            "('green', 'down')\n"
          ]
        },
        {
          "data": {
            "image/png": "[encoded data removed]",
            "text/plain": [
              "<Figure size 260x260 with 1 Axes>"
            ]
          },
          "metadata": {},
          "output_type": "display_data"
        },
        {
          "name": "stdout",
          "output_type": "stream",
          "text": [
            "('purple', 'left')\n"
          ]
        },
        {
          "data": {
            "image/png": "[encoded data removed]",
            "text/plain": [
              "<Figure size 260x260 with 1 Axes>"
            ]
          },
          "metadata": {},
          "output_type": "display_data"
        },
        {
          "name": "stdout",
          "output_type": "stream",
          "text": [
            "('purple', 'left')\n"
          ]
        },
        {
          "data": {
            "image/png": "[encoded data removed]",
            "text/plain": [
              "<Figure size 260x260 with 1 Axes>"
            ]
          },
          "metadata": {},
          "output_type": "display_data"
        },
        {
          "name": "stdout",
          "output_type": "stream",
          "text": [
            "('purple', 'left')\n"
          ]
        },
        {
          "data": {
            "image/png": "[encoded data removed]",
            "text/plain": [
              "<Figure size 260x260 with 1 Axes>"
            ]
          },
          "metadata": {},
          "output_type": "display_data"
        },
        {
          "name": "stdout",
          "output_type": "stream",
          "text": [
            "('orange', 'up')\n"
          ]
        },
        {
          "data": {
            "image/png": "[encoded data removed]",
            "text/plain": [
              "<Figure size 260x260 with 1 Axes>"
            ]
          },
          "metadata": {},
          "output_type": "display_data"
        },
        {
          "name": "stdout",
          "output_type": "stream",
          "text": [
            "('green', 'right')\n"
          ]
        },
        {
          "data": {
            "image/png": "[encoded data removed]",
            "text/plain": [
              "<Figure size 260x260 with 1 Axes>"
            ]
          },
          "metadata": {},
          "output_type": "display_data"
        },
        {
          "name": "stdout",
          "output_type": "stream",
          "text": [
            "('yellow', 'right')\n"
          ]
        },
        {
          "data": {
            "image/png": "[encoded data removed]",
            "text/plain": [
              "<Figure size 260x260 with 1 Axes>"
            ]
          },
          "metadata": {},
          "output_type": "display_data"
        },
        {
          "name": "stdout",
          "output_type": "stream",
          "text": [
            "('purple', 'right')\n"
          ]
        },
        {
          "data": {
            "image/png": "[encoded data removed]",
            "text/plain": [
              "<Figure size 260x260 with 1 Axes>"
            ]
          },
          "metadata": {},
          "output_type": "display_data"
        },
        {
          "name": "stdout",
          "output_type": "stream",
          "text": [
            "('blue', 'right')\n"
          ]
        },
        {
          "data": {
            "image/png": "[encoded data removed]",
            "text/plain": [
              "<Figure size 260x260 with 1 Axes>"
            ]
          },
          "metadata": {},
          "output_type": "display_data"
        },
        {
          "name": "stdout",
          "output_type": "stream",
          "text": [
            "('blue', 'down')\n"
          ]
        },
        {
          "data": {
            "image/png": "[encoded data removed]",
            "text/plain": [
              "<Figure size 260x260 with 1 Axes>"
            ]
          },
          "metadata": {},
          "output_type": "display_data"
        },
        {
          "name": "stdout",
          "output_type": "stream",
          "text": [
            "('purple', 'left')\n"
          ]
        },
        {
          "data": {
            "image/png": "[encoded data removed]",
            "text/plain": [
              "<Figure size 260x260 with 1 Axes>"
            ]
          },
          "metadata": {},
          "output_type": "display_data"
        },
        {
          "name": "stdout",
          "output_type": "stream",
          "text": [
            "('purple', 'left')\n"
          ]
        },
        {
          "data": {
            "image/png": "[encoded data removed]",
            "text/plain": [
              "<Figure size 260x260 with 1 Axes>"
            ]
          },
          "metadata": {},
          "output_type": "display_data"
        },
        {
          "name": "stdout",
          "output_type": "stream",
          "text": [
            "('blue', 'down')\n"
          ]
        },
        {
          "data": {
            "image/png": "[encoded data removed]",
            "text/plain": [
              "<Figure size 260x260 with 1 Axes>"
            ]
          },
          "metadata": {},
          "output_type": "display_data"
        },
        {
          "name": "stdout",
          "output_type": "stream",
          "text": [
            "('orange', 'left')\n"
          ]
        },
        {
          "data": {
            "image/png": "[encoded data removed]",
            "text/plain": [
              "<Figure size 260x260 with 1 Axes>"
            ]
          },
          "metadata": {},
          "output_type": "display_data"
        },
        {
          "name": "stdout",
          "output_type": "stream",
          "text": [
            "('orange', 'left')\n"
          ]
        },
        {
          "data": {
            "image/png": "[encoded data removed]",
            "text/plain": [
              "<Figure size 260x260 with 1 Axes>"
            ]
          },
          "metadata": {},
          "output_type": "display_data"
        },
        {
          "name": "stdout",
          "output_type": "stream",
          "text": [
            "('green', 'up')\n"
          ]
        },
        {
          "data": {
            "image/png": "[encoded data removed]",
            "text/plain": [
              "<Figure size 260x260 with 1 Axes>"
            ]
          },
          "metadata": {},
          "output_type": "display_data"
        },
        {
          "name": "stdout",
          "output_type": "stream",
          "text": [
            "('orange', 'left')\n"
          ]
        },
        {
          "data": {
            "image/png": "[encoded data removed]",
            "text/plain": [
              "<Figure size 260x260 with 1 Axes>"
            ]
          },
          "metadata": {},
          "output_type": "display_data"
        },
        {
          "name": "stdout",
          "output_type": "stream",
          "text": [
            "('yellow', 'up')\n"
          ]
        },
        {
          "data": {
            "image/png": "[encoded data removed]",
            "text/plain": [
              "<Figure size 260x260 with 1 Axes>"
            ]
          },
          "metadata": {},
          "output_type": "display_data"
        },
        {
          "name": "stdout",
          "output_type": "stream",
          "text": [
            "('blue', 'right')\n"
          ]
        },
        {
          "data": {
            "image/png": "[encoded data removed]",
            "text/plain": [
              "<Figure size 260x260 with 1 Axes>"
            ]
          },
          "metadata": {},
          "output_type": "display_data"
        },
        {
          "name": "stdout",
          "output_type": "stream",
          "text": [
            "('orange', 'down')\n"
          ]
        },
        {
          "data": {
            "image/png": "[encoded data removed]",
            "text/plain": [
              "<Figure size 260x260 with 1 Axes>"
            ]
          },
          "metadata": {},
          "output_type": "display_data"
        },
        {
          "name": "stdout",
          "output_type": "stream",
          "text": [
            "('orange', 'down')\n"
          ]
        },
        {
          "data": {
            "image/png": "[encoded data removed]",
            "text/plain": [
              "<Figure size 260x260 with 1 Axes>"
            ]
          },
          "metadata": {},
          "output_type": "display_data"
        },
        {
          "name": "stdout",
          "output_type": "stream",
          "text": [
            "('orange', 'down')\n"
          ]
        },
        {
          "data": {
            "image/png": "[encoded data removed]",
            "text/plain": [
              "<Figure size 260x260 with 1 Axes>"
            ]
          },
          "metadata": {},
          "output_type": "display_data"
        },
        {
          "name": "stdout",
          "output_type": "stream",
          "text": [
            "('purple', 'right')\n"
          ]
        },
        {
          "data": {
            "image/png": "[encoded data removed]",
            "text/plain": [
              "<Figure size 260x260 with 1 Axes>"
            ]
          },
          "metadata": {},
          "output_type": "display_data"
        },
        {
          "name": "stdout",
          "output_type": "stream",
          "text": [
            "('purple', 'down')\n"
          ]
        },
        {
          "data": {
            "image/png": "[encoded data removed]",
            "text/plain": [
              "<Figure size 260x260 with 1 Axes>"
            ]
          },
          "metadata": {},
          "output_type": "display_data"
        },
        {
          "name": "stdout",
          "output_type": "stream",
          "text": [
            "('purple', 'down')\n"
          ]
        },
        {
          "data": {
            "image/png": "[encoded data removed]",
            "text/plain": [
              "<Figure size 260x260 with 1 Axes>"
            ]
          },
          "metadata": {},
          "output_type": "display_data"
        },
        {
          "name": "stdout",
          "output_type": "stream",
          "text": [
            "('yellow', 'left')\n"
          ]
        },
        {
          "data": {
            "image/png": "[encoded data removed]",
            "text/plain": [
              "<Figure size 260x260 with 1 Axes>"
            ]
          },
          "metadata": {},
          "output_type": "display_data"
        },
        {
          "name": "stdout",
          "output_type": "stream",
          "text": [
            "('yellow', 'left')\n"
          ]
        },
        {
          "data": {
            "image/png": "[encoded data removed]",
            "text/plain": [
              "<Figure size 260x260 with 1 Axes>"
            ]
          },
          "metadata": {},
          "output_type": "display_data"
        },
        {
          "name": "stdout",
          "output_type": "stream",
          "text": [
            "('green', 'down')\n"
          ]
        },
        {
          "data": {
            "image/png": "[encoded data removed]",
            "text/plain": [
              "<Figure size 260x260 with 1 Axes>"
            ]
          },
          "metadata": {},
          "output_type": "display_data"
        },
        {
          "name": "stdout",
          "output_type": "stream",
          "text": [
            "('green', 'down')\n"
          ]
        },
        {
          "data": {
            "image/png": "[encoded data removed]",
            "text/plain": [
              "<Figure size 260x260 with 1 Axes>"
            ]
          },
          "metadata": {},
          "output_type": "display_data"
        },
        {
          "name": "stdout",
          "output_type": "stream",
          "text": [
            "('yellow', 'right')\n"
          ]
        },
        {
          "data": {
            "image/png": "[encoded data removed]",
            "text/plain": [
              "<Figure size 260x260 with 1 Axes>"
            ]
          },
          "metadata": {},
          "output_type": "display_data"
        },
        {
          "name": "stdout",
          "output_type": "stream",
          "text": [
            "('yellow', 'right')\n"
          ]
        },
        {
          "data": {
            "image/png": "[encoded data removed]",
            "text/plain": [
              "<Figure size 260x260 with 1 Axes>"
            ]
          },
          "metadata": {},
          "output_type": "display_data"
        },
        {
          "name": "stdout",
          "output_type": "stream",
          "text": [
            "('purple', 'up')\n"
          ]
        },
        {
          "data": {
            "image/png": "[encoded data removed]",
            "text/plain": [
              "<Figure size 260x260 with 1 Axes>"
            ]
          },
          "metadata": {},
          "output_type": "display_data"
        },
        {
          "name": "stdout",
          "output_type": "stream",
          "text": [
            "('purple', 'left')\n"
          ]
        },
        {
          "data": {
            "image/png": "[encoded data removed]",
            "text/plain": [
              "<Figure size 260x260 with 1 Axes>"
            ]
          },
          "metadata": {},
          "output_type": "display_data"
        },
        {
          "name": "stdout",
          "output_type": "stream",
          "text": [
            "('purple', 'up')\n"
          ]
        },
        {
          "data": {
            "image/png": "[encoded data removed]",
            "text/plain": [
              "<Figure size 260x260 with 1 Axes>"
            ]
          },
          "metadata": {},
          "output_type": "display_data"
        },
        {
          "name": "stdout",
          "output_type": "stream",
          "text": [
            "('orange', 'up')\n"
          ]
        },
        {
          "data": {
            "image/png": "[encoded data removed]",
            "text/plain": [
              "<Figure size 260x260 with 1 Axes>"
            ]
          },
          "metadata": {},
          "output_type": "display_data"
        },
        {
          "name": "stdout",
          "output_type": "stream",
          "text": [
            "('orange', 'up')\n"
          ]
        },
        {
          "data": {
            "image/png": "[encoded data removed]",
            "text/plain": [
              "<Figure size 260x260 with 1 Axes>"
            ]
          },
          "metadata": {},
          "output_type": "display_data"
        },
        {
          "name": "stdout",
          "output_type": "stream",
          "text": [
            "('blue', 'left')\n"
          ]
        },
        {
          "data": {
            "image/png": "[encoded data removed]",
            "text/plain": [
              "<Figure size 260x260 with 1 Axes>"
            ]
          },
          "metadata": {},
          "output_type": "display_data"
        },
        {
          "name": "stdout",
          "output_type": "stream",
          "text": [
            "('green', 'left')\n"
          ]
        },
        {
          "data": {
            "image/png": "[encoded data removed]",
            "text/plain": [
              "<Figure size 260x260 with 1 Axes>"
            ]
          },
          "metadata": {},
          "output_type": "display_data"
        },
        {
          "name": "stdout",
          "output_type": "stream",
          "text": [
            "('orange', 'up')\n"
          ]
        },
        {
          "data": {
            "image/png": "[encoded data removed]",
            "text/plain": [
              "<Figure size 260x260 with 1 Axes>"
            ]
          },
          "metadata": {},
          "output_type": "display_data"
        },
        {
          "name": "stdout",
          "output_type": "stream",
          "text": [
            "('blue', 'up')\n"
          ]
        },
        {
          "data": {
            "image/png": "[encoded data removed]",
            "text/plain": [
              "<Figure size 260x260 with 1 Axes>"
            ]
          },
          "metadata": {},
          "output_type": "display_data"
        },
        {
          "name": "stdout",
          "output_type": "stream",
          "text": [
            "('purple', 'down')\n"
          ]
        },
        {
          "data": {
            "image/png": "[encoded data removed]",
            "text/plain": [
              "<Figure size 260x260 with 1 Axes>"
            ]
          },
          "metadata": {},
          "output_type": "display_data"
        },
        {
          "name": "stdout",
          "output_type": "stream",
          "text": [
            "('orange', 'left')\n"
          ]
        },
        {
          "data": {
            "image/png": "[encoded data removed]",
            "text/plain": [
              "<Figure size 260x260 with 1 Axes>"
            ]
          },
          "metadata": {},
          "output_type": "display_data"
        },
        {
          "name": "stdout",
          "output_type": "stream",
          "text": [
            "('blue', 'up')\n"
          ]
        },
        {
          "data": {
            "image/png": "[encoded data removed]",
            "text/plain": [
              "<Figure size 260x260 with 1 Axes>"
            ]
          },
          "metadata": {},
          "output_type": "display_data"
        },
        {
          "name": "stdout",
          "output_type": "stream",
          "text": [
            "('green', 'left')\n"
          ]
        },
        {
          "data": {
            "image/png": "[encoded data removed]",
            "text/plain": [
              "<Figure size 260x260 with 1 Axes>"
            ]
          },
          "metadata": {},
          "output_type": "display_data"
        },
        {
          "name": "stdout",
          "output_type": "stream",
          "text": [
            "('green', 'down')\n"
          ]
        },
        {
          "data": {
            "image/png": "[encoded data removed]",
            "text/plain": [
              "<Figure size 260x260 with 1 Axes>"
            ]
          },
          "metadata": {},
          "output_type": "display_data"
        },
        {
          "name": "stdout",
          "output_type": "stream",
          "text": [
            "('blue', 'down')\n"
          ]
        },
        {
          "data": {
            "image/png": "[encoded data removed]",
            "text/plain": [
              "<Figure size 260x260 with 1 Axes>"
            ]
          },
          "metadata": {},
          "output_type": "display_data"
        },
        {
          "name": "stdout",
          "output_type": "stream",
          "text": [
            "('orange', 'right')\n"
          ]
        },
        {
          "data": {
            "image/png": "[encoded data removed]",
            "text/plain": [
              "<Figure size 260x260 with 1 Axes>"
            ]
          },
          "metadata": {},
          "output_type": "display_data"
        },
        {
          "name": "stdout",
          "output_type": "stream",
          "text": [
            "('purple', 'up')\n"
          ]
        },
        {
          "data": {
            "image/png": "[encoded data removed]",
            "text/plain": [
              "<Figure size 260x260 with 1 Axes>"
            ]
          },
          "metadata": {},
          "output_type": "display_data"
        },
        {
          "name": "stdout",
          "output_type": "stream",
          "text": [
            "('yellow', 'down')\n"
          ]
        },
        {
          "data": {
            "image/png": "[encoded data removed]",
            "text/plain": [
              "<Figure size 260x260 with 1 Axes>"
            ]
          },
          "metadata": {},
          "output_type": "display_data"
        },
        {
          "name": "stdout",
          "output_type": "stream",
          "text": [
            "('orange', 'right')\n"
          ]
        },
        {
          "data": {
            "image/png": "[encoded data removed]",
            "text/plain": [
              "<Figure size 260x260 with 1 Axes>"
            ]
          },
          "metadata": {},
          "output_type": "display_data"
        },
        {
          "name": "stdout",
          "output_type": "stream",
          "text": [
            "('orange', 'right')\n"
          ]
        },
        {
          "data": {
            "image/png": "[encoded data removed]",
            "text/plain": [
              "<Figure size 260x260 with 1 Axes>"
            ]
          },
          "metadata": {},
          "output_type": "display_data"
        },
        {
          "name": "stdout",
          "output_type": "stream",
          "text": [
            "('purple', 'right')\n"
          ]
        },
        {
          "data": {
            "image/png": "[encoded data removed]",
            "text/plain": [
              "<Figure size 260x260 with 1 Axes>"
            ]
          },
          "metadata": {},
          "output_type": "display_data"
        },
        {
          "name": "stdout",
          "output_type": "stream",
          "text": [
            "('purple', 'right')\n"
          ]
        },
        {
          "data": {
            "image/png": "[encoded data removed]",
            "text/plain": [
              "<Figure size 260x260 with 1 Axes>"
            ]
          },
          "metadata": {},
          "output_type": "display_data"
        },
        {
          "name": "stdout",
          "output_type": "stream",
          "text": [
            "('blue', 'up')\n"
          ]
        },
        {
          "data": {
            "image/png": "[encoded data removed]",
            "text/plain": [
              "<Figure size 260x260 with 1 Axes>"
            ]
          },
          "metadata": {},
          "output_type": "display_data"
        },
        {
          "name": "stdout",
          "output_type": "stream",
          "text": [
            "('blue', 'left')\n"
          ]
        },
        {
          "data": {
            "image/png": "[encoded data removed]",
            "text/plain": [
              "<Figure size 260x260 with 1 Axes>"
            ]
          },
          "metadata": {},
          "output_type": "display_data"
        },
        {
          "name": "stdout",
          "output_type": "stream",
          "text": [
            "('purple', 'left')\n"
          ]
        },
        {
          "data": {
            "image/png": "[encoded data removed]",
            "text/plain": [
              "<Figure size 260x260 with 1 Axes>"
            ]
          },
          "metadata": {},
          "output_type": "display_data"
        },
        {
          "name": "stdout",
          "output_type": "stream",
          "text": [
            "('yellow', 'left')\n"
          ]
        },
        {
          "data": {
            "image/png": "[encoded data removed]",
            "text/plain": [
              "<Figure size 260x260 with 1 Axes>"
            ]
          },
          "metadata": {},
          "output_type": "display_data"
        },
        {
          "name": "stdout",
          "output_type": "stream",
          "text": [
            "('orange', 'right')\n"
          ]
        },
        {
          "data": {
            "image/png": "[encoded data removed]",
            "text/plain": [
              "<Figure size 260x260 with 1 Axes>"
            ]
          },
          "metadata": {},
          "output_type": "display_data"
        },
        {
          "name": "stdout",
          "output_type": "stream",
          "text": [
            "('purple', 'right')\n"
          ]
        },
        {
          "data": {
            "image/png": "[encoded data removed]",
            "text/plain": [
              "<Figure size 260x260 with 1 Axes>"
            ]
          },
          "metadata": {},
          "output_type": "display_data"
        },
        {
          "name": "stdout",
          "output_type": "stream",
          "text": [
            "('yellow', 'up')\n"
          ]
        },
        {
          "data": {
            "image/png": "[encoded data removed]",
            "text/plain": [
              "<Figure size 260x260 with 1 Axes>"
            ]
          },
          "metadata": {},
          "output_type": "display_data"
        },
        {
          "name": "stdout",
          "output_type": "stream",
          "text": [
            "('green', 'up')\n"
          ]
        },
        {
          "data": {
            "image/png": "[encoded data removed]",
            "text/plain": [
              "<Figure size 260x260 with 1 Axes>"
            ]
          },
          "metadata": {},
          "output_type": "display_data"
        },
        {
          "name": "stdout",
          "output_type": "stream",
          "text": [
            "('green', 'right')\n"
          ]
        },
        {
          "data": {
            "image/png": "[encoded data removed]",
            "text/plain": [
              "<Figure size 260x260 with 1 Axes>"
            ]
          },
          "metadata": {},
          "output_type": "display_data"
        },
        {
          "name": "stdout",
          "output_type": "stream",
          "text": [
            "('green', 'right')\n"
          ]
        },
        {
          "data": {
            "image/png": "[encoded data removed]",
            "text/plain": [
              "<Figure size 260x260 with 1 Axes>"
            ]
          },
          "metadata": {},
          "output_type": "display_data"
        },
        {
          "name": "stdout",
          "output_type": "stream",
          "text": [
            "('purple', 'right')\n"
          ]
        },
        {
          "data": {
            "image/png": "[encoded data removed]",
            "text/plain": [
              "<Figure size 260x260 with 1 Axes>"
            ]
          },
          "metadata": {},
          "output_type": "display_data"
        },
        {
          "name": "stdout",
          "output_type": "stream",
          "text": [
            "('yellow', 'right')\n"
          ]
        },
        {
          "data": {
            "image/png": "[encoded data removed]",
            "text/plain": [
              "<Figure size 260x260 with 1 Axes>"
            ]
          },
          "metadata": {},
          "output_type": "display_data"
        },
        {
          "name": "stdout",
          "output_type": "stream",
          "text": [
            "('blue', 'right')\n"
          ]
        },
        {
          "data": {
            "image/png": "[encoded data removed]",
            "text/plain": [
              "<Figure size 260x260 with 1 Axes>"
            ]
          },
          "metadata": {},
          "output_type": "display_data"
        },
        {
          "name": "stdout",
          "output_type": "stream",
          "text": [
            "('red', 'up')\n"
          ]
        },
        {
          "data": {
            "image/png": "[encoded data removed]",
            "text/plain": [
              "<Figure size 260x260 with 1 Axes>"
            ]
          },
          "metadata": {},
          "output_type": "display_data"
        },
        {
          "name": "stdout",
          "output_type": "stream",
          "text": [
            "('red', 'up')\n"
          ]
        },
        {
          "data": {
            "image/png": "[encoded data removed]",
            "text/plain": [
              "<Figure size 260x260 with 1 Axes>"
            ]
          },
          "metadata": {},
          "output_type": "display_data"
        },
        {
          "name": "stdout",
          "output_type": "stream",
          "text": [
            "('pink', 'left')\n"
          ]
        },
        {
          "data": {
            "image/png": "[encoded data removed]",
            "text/plain": [
              "<Figure size 260x260 with 1 Axes>"
            ]
          },
          "metadata": {},
          "output_type": "display_data"
        },
        {
          "name": "stdout",
          "output_type": "stream",
          "text": [
            "('pink', 'left')\n"
          ]
        },
        {
          "data": {
            "image/png": "[encoded data removed]",
            "text/plain": [
              "<Figure size 260x260 with 1 Axes>"
            ]
          },
          "metadata": {},
          "output_type": "display_data"
        },
        {
          "name": "stdout",
          "output_type": "stream",
          "text": [
            "('pink', 'left')\n"
          ]
        },
        {
          "data": {
            "image/png": "[encoded data removed]",
            "text/plain": [
              "<Figure size 260x260 with 1 Axes>"
            ]
          },
          "metadata": {},
          "output_type": "display_data"
        },
        {
          "name": "stdout",
          "output_type": "stream",
          "text": [
            "\n",
            "SEARCH SPACE STATS:\n",
            "Total nodes generated          =    23547  (includes start)\n",
            "Nodes discarded by loop_check  =    17177  (6370 distinct states added to queue)\n",
            "Nodes tested (by goal_test)    =     4900  (4899 expanded + 1 goal)\n",
            "Nodes left in queue            =     1470\n",
            "\n",
            "Time taken = 7.6759 seconds\n",
            "\n"
          ]
        }
      ],
      "source": [
        "def purple_heuristic(state):\n",
        "      for r, row in enumerate(state.blockstate):\n",
        "        for c, col in enumerate(row):\n",
        "          if col == 6:\n",
        "            return r+c\n",
        "\n",
        "def red_and_purple_heuristic(state):\n",
        "  return (red_right_heuristic(state) + purple_heuristic(state))\n",
        "\n",
        "clever_search = search( hard_puzzle, 'BF/FIFO', 10000000, heuristic = purple_heuristic,\n",
        "                     loop_check=True, randomise=False, show_state_path=True, return_info=True)\n",
        "                     "
      ]
    },
    {
      "cell_type": "markdown",
      "metadata": {
        "id": "f0T575aJx1Yg"
      },
      "source": [
        "## Collecting and Tabulating Results\n",
        "\n",
        "As we saw in earlier exercercises, when researching search problems and algorithms, it can be informative to collect results of a series of tests in the form of a table. This is illustrated in the next code cell."
      ]
    },
    {
      "cell_type": "code",
      "execution_count": null,
      "metadata": {
        "id": "1Qms4JbneNFX"
      },
      "outputs": [
        {
          "name": "stdout",
          "output_type": "stream",
          "text": [
            "\n",
            "                **TESTS SUMMARY**\n",
            "\n",
            "Test    #max   Result   #gen     #inQ    Time s\n",
            "  0:    10000    Y      2838      144     0.67 \n"
          ]
        }
      ],
      "source": [
        "\n",
        "TEST_RESULTS =[easy_search]\n",
        "\n",
        "# Specify symbols for termination conditions:\n",
        "short_tc = {\"GOAL_STATE_FOUND\"     : \"Y\",\n",
        "            \"NODE_LIMIT_EXCEEDED\"  : \"!\",\n",
        "            \"SEARH-SPACE_EXHAUSTED\": \"x\"}\n",
        "\n",
        "print(\"\\n                **TESTS SUMMARY**\\n\")\n",
        "\n",
        "print(\"Test    #max   Result   #gen     #inQ    Time s\")\n",
        "for i, test in enumerate(TEST_RESULTS):\n",
        "    max  = test['args']['max_nodes']\n",
        "    tc  = test['result']['termination_condition']\n",
        "    stc = short_tc[tc]\n",
        "\n",
        "    ng  = test['search_stats']['nodes_generated']\n",
        "    nq  = test['search_stats']['nodes_left_in_queue']\n",
        "    time = round( test['search_stats']['time_taken'], 2 )\n",
        "    print( f\"{i:>3}: {max:>8}    {stc}  {ng:>8} {nq:>8}     {time} \")"
      ]
    }
  ],
  "metadata": {
    "colab": {
      "include_colab_link": true,
      "provenance": []
    },
    "kernelspec": {
      "display_name": "Python 3",
      "name": "python3"
    },
    "language_info": {
      "codemirror_mode": {
        "name": "ipython",
        "version": 3
      },
      "file_extension": ".py",
      "mimetype": "text/x-python",
      "name": "python",
      "nbconvert_exporter": "python",
      "pygments_lexer": "ipython3",
      "version": "3.12.1"
    }
  },
  "nbformat": 4,
  "nbformat_minor": 0
}
